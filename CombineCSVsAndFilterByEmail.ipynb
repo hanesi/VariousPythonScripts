{
 "cells": [
  {
   "cell_type": "code",
   "execution_count": 2,
   "metadata": {},
   "outputs": [],
   "source": [
    "import pandas as pd\n",
    "import os"
   ]
  },
  {
   "cell_type": "code",
   "execution_count": 22,
   "metadata": {},
   "outputs": [],
   "source": [
    "path = r'/Users/ianhanes/Downloads/Files-13/'\n",
    "client_email_str = '@cli'\n",
    "filenames = [f for f in os.listdir(path)]"
   ]
  },
  {
   "cell_type": "code",
   "execution_count": 23,
   "metadata": {},
   "outputs": [],
   "source": [
    "all_filenames = [path+i for i in filenames]"
   ]
  },
  {
   "cell_type": "code",
   "execution_count": null,
   "metadata": {},
   "outputs": [],
   "source": [
    "combined_csv = pd.concat([pd.read_csv(f) for f in all_filenames ])"
   ]
  },
  {
   "cell_type": "code",
   "execution_count": 46,
   "metadata": {},
   "outputs": [],
   "source": [
    "combined_csv[\"Email\"] = combined_csv[\"Email\"].str.lower()\n",
    "dfNonEmployees = combined_csv[~combined_csv['Email'].str.contains('the-citizenry.com', na=False)]\n",
    "dfEmployees = combined_csv[combined_csv['Email'].str.contains('the-citizenry.com', na=False)]\n",
    "dfEmployees.to_csv(r'/Users/ianhanes/desktop/theCitizenryEmployeeOrders.csv', index=False)\n",
    "dfNonEmployees.to_csv(r'/Users/ianhanes/desktop/theCitizenryNonEmployeeOrders.csv', index=False)"
   ]
  }
 ],
 "metadata": {
  "kernelspec": {
   "display_name": "Python 3",
   "language": "python",
   "name": "python3"
  },
  "language_info": {
   "codemirror_mode": {
    "name": "ipython",
    "version": 3
   },
   "file_extension": ".py",
   "mimetype": "text/x-python",
   "name": "python",
   "nbconvert_exporter": "python",
   "pygments_lexer": "ipython3",
   "version": "3.7.4"
  }
 },
 "nbformat": 4,
 "nbformat_minor": 2
}
